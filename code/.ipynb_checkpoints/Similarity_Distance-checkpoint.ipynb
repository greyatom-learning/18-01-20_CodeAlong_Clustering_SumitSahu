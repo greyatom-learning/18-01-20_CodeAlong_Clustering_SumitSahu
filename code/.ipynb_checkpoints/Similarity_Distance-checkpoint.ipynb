{
 "cells": [
  {
   "cell_type": "markdown",
   "metadata": {},
   "source": [
    "# <center> Similarity Measures in Python"
   ]
  },
  {
   "cell_type": "markdown",
   "metadata": {},
   "source": [
    "1. **Similarity is the basic building block for techniques such as Recommendation engines, clustering, classification and anomaly detection. **\n",
    "2. **Similarity functions are used to measure the ‘distance’ between two vectors or numbers or pairs. **\n",
    "3. **The two objects are deemed to be similar if the distance between them is small, and vice-versa.**"
   ]
  },
  {
   "cell_type": "markdown",
   "metadata": {},
   "source": [
    "### Libraries"
   ]
  },
  {
   "cell_type": "code",
   "execution_count": 1,
   "metadata": {},
   "outputs": [],
   "source": [
    "import pandas as pd #for dataframe\n",
    "import numpy as np #for numerical calculations\n",
    "import math #for mathematical functions like sqrt, pow\n",
    "from sklearn import preprocessing #for standardising\n",
    "\n",
    "# To print multiple outputs together\n",
    "from IPython.core.interactiveshell import InteractiveShell\n",
    "InteractiveShell.ast_node_interactivity = \"all\"\n"
   ]
  },
  {
   "cell_type": "markdown",
   "metadata": {},
   "source": [
    "### Create Data"
   ]
  },
  {
   "cell_type": "code",
   "execution_count": 2,
   "metadata": {},
   "outputs": [
    {
     "data": {
      "text/html": [
       "<div>\n",
       "<style scoped>\n",
       "    .dataframe tbody tr th:only-of-type {\n",
       "        vertical-align: middle;\n",
       "    }\n",
       "\n",
       "    .dataframe tbody tr th {\n",
       "        vertical-align: top;\n",
       "    }\n",
       "\n",
       "    .dataframe thead th {\n",
       "        text-align: right;\n",
       "    }\n",
       "</style>\n",
       "<table border=\"1\" class=\"dataframe\">\n",
       "  <thead>\n",
       "    <tr style=\"text-align: right;\">\n",
       "      <th></th>\n",
       "      <th>Height</th>\n",
       "      <th>Score</th>\n",
       "      <th>Age</th>\n",
       "    </tr>\n",
       "  </thead>\n",
       "  <tbody>\n",
       "    <tr>\n",
       "      <th>0</th>\n",
       "      <td>64.0</td>\n",
       "      <td>580.0</td>\n",
       "      <td>29.0</td>\n",
       "    </tr>\n",
       "    <tr>\n",
       "      <th>1</th>\n",
       "      <td>66.0</td>\n",
       "      <td>570.0</td>\n",
       "      <td>33.0</td>\n",
       "    </tr>\n",
       "    <tr>\n",
       "      <th>2</th>\n",
       "      <td>68.0</td>\n",
       "      <td>590.0</td>\n",
       "      <td>37.0</td>\n",
       "    </tr>\n",
       "    <tr>\n",
       "      <th>3</th>\n",
       "      <td>69.0</td>\n",
       "      <td>660.0</td>\n",
       "      <td>46.0</td>\n",
       "    </tr>\n",
       "    <tr>\n",
       "      <th>4</th>\n",
       "      <td>73.0</td>\n",
       "      <td>600.0</td>\n",
       "      <td>55.0</td>\n",
       "    </tr>\n",
       "  </tbody>\n",
       "</table>\n",
       "</div>"
      ],
      "text/plain": [
       "   Height  Score   Age\n",
       "0    64.0  580.0  29.0\n",
       "1    66.0  570.0  33.0\n",
       "2    68.0  590.0  37.0\n",
       "3    69.0  660.0  46.0\n",
       "4    73.0  600.0  55.0"
      ]
     },
     "execution_count": 2,
     "metadata": {},
     "output_type": "execute_result"
    }
   ],
   "source": [
    "# initialize list of lists \n",
    "data = [[64.0, 580.0, 29.0],\n",
    "        [66.0, 570.0, 33.0],\n",
    "        [68.0, 590.0, 37.0],\n",
    "        [69.0, 660.0, 46.0],\n",
    "        [73.0, 600.0, 55.0]] \n",
    "\n",
    "# Create the pandas DataFrame \n",
    "df = pd.DataFrame(data, columns = ['Height', 'Score', 'Age']) \n",
    "  \n",
    "# print dataframe. \n",
    "df "
   ]
  },
  {
   "cell_type": "markdown",
   "metadata": {},
   "source": [
    "### Measures of Similarity"
   ]
  },
  {
   "cell_type": "markdown",
   "metadata": {},
   "source": [
    "### 1. Eucledian Distance"
   ]
  },
  {
   "cell_type": "markdown",
   "metadata": {},
   "source": [
    "The most popular distance measure is the Euclidean distance. The Euclidean distance $d_{ij}$ between\n",
    "two cases, $i$ and $j$ is defined by: \n",
    "\n",
    "<center>$d_{ij}$ = $\\sqrt{\\sum_{i=1}^n (x_i-y_i)^2}$ , $n$ = vector dimension   </center>  \n",
    "\n"
   ]
  },
  {
   "cell_type": "code",
   "execution_count": 3,
   "metadata": {},
   "outputs": [
    {
     "data": {
      "text/plain": [
       "10.954451150103322"
      ]
     },
     "execution_count": 3,
     "metadata": {},
     "output_type": "execute_result"
    }
   ],
   "source": [
    "def euclidean_distance(x,y):\n",
    "  return math.sqrt(sum(math.pow(a-b,2) for a, b in zip(x, y)))\n",
    "\n",
    "#calculate Euclidean distance between first two rows\n",
    "euclidean_distance(df.loc[0,], df.loc[1,])"
   ]
  },
  {
   "cell_type": "markdown",
   "metadata": {},
   "source": [
    "### Normalised Eucledian Distance"
   ]
  },
  {
   "cell_type": "markdown",
   "metadata": {},
   "source": [
    "- The measure computed above is highly influenced by the scale of each variable, so that variables with larger scales (like Score) have a much higher influence over the total distance. \n",
    "- It is therefore customary to normalize (or, standardize) continuous measurements before computing the Euclidean distance. This converts all measurements to the same scale. \n",
    "- Normalizing a measurement means subtracting the average and dividing by the standard deviation (normalized values\n",
    "are also called z-scores).\n",
    "\n",
    "<center>\n",
    "<img src=\"../Images/Standardise.jpg\" width=20%, height = 20%/>"
   ]
  },
  {
   "cell_type": "code",
   "execution_count": 4,
   "metadata": {},
   "outputs": [
    {
     "data": {
      "text/html": [
       "<div>\n",
       "<style scoped>\n",
       "    .dataframe tbody tr th:only-of-type {\n",
       "        vertical-align: middle;\n",
       "    }\n",
       "\n",
       "    .dataframe tbody tr th {\n",
       "        vertical-align: top;\n",
       "    }\n",
       "\n",
       "    .dataframe thead th {\n",
       "        text-align: right;\n",
       "    }\n",
       "</style>\n",
       "<table border=\"1\" class=\"dataframe\">\n",
       "  <thead>\n",
       "    <tr style=\"text-align: right;\">\n",
       "      <th></th>\n",
       "      <th>Height</th>\n",
       "      <th>Score</th>\n",
       "      <th>Age</th>\n",
       "    </tr>\n",
       "  </thead>\n",
       "  <tbody>\n",
       "    <tr>\n",
       "      <th>0</th>\n",
       "      <td>-1.318761</td>\n",
       "      <td>-0.632456</td>\n",
       "      <td>-1.172604</td>\n",
       "    </tr>\n",
       "    <tr>\n",
       "      <th>1</th>\n",
       "      <td>-0.659380</td>\n",
       "      <td>-0.948683</td>\n",
       "      <td>-0.746203</td>\n",
       "    </tr>\n",
       "    <tr>\n",
       "      <th>2</th>\n",
       "      <td>0.000000</td>\n",
       "      <td>-0.316228</td>\n",
       "      <td>-0.319801</td>\n",
       "    </tr>\n",
       "    <tr>\n",
       "      <th>3</th>\n",
       "      <td>0.329690</td>\n",
       "      <td>1.897367</td>\n",
       "      <td>0.639602</td>\n",
       "    </tr>\n",
       "    <tr>\n",
       "      <th>4</th>\n",
       "      <td>1.648451</td>\n",
       "      <td>0.000000</td>\n",
       "      <td>1.599005</td>\n",
       "    </tr>\n",
       "  </tbody>\n",
       "</table>\n",
       "</div>"
      ],
      "text/plain": [
       "     Height     Score       Age\n",
       "0 -1.318761 -0.632456 -1.172604\n",
       "1 -0.659380 -0.948683 -0.746203\n",
       "2  0.000000 -0.316228 -0.319801\n",
       "3  0.329690  1.897367  0.639602\n",
       "4  1.648451  0.000000  1.599005"
      ]
     },
     "execution_count": 4,
     "metadata": {},
     "output_type": "execute_result"
    }
   ],
   "source": [
    "# Get column names first\n",
    "names = df.columns\n",
    "\n",
    "# Create the Scaler object\n",
    "scaler = preprocessing.StandardScaler()\n",
    "\n",
    "# Fit your data on the scaler object\n",
    "scaled_df = scaler.fit_transform(df)\n",
    "scaled_df = pd.DataFrame(scaled_df, columns=names)\n",
    "scaled_df"
   ]
  },
  {
   "cell_type": "code",
   "execution_count": 5,
   "metadata": {},
   "outputs": [
    {
     "data": {
      "text/plain": [
       "0.8465227643210985"
      ]
     },
     "execution_count": 5,
     "metadata": {},
     "output_type": "execute_result"
    }
   ],
   "source": [
    "#calculate Euclidean distance between first two rows\n",
    "euclidean_distance(scaled_df.loc[0,], scaled_df.loc[1,])"
   ]
  },
  {
   "cell_type": "markdown",
   "metadata": {},
   "source": [
    "### 2. Mahalonobis Distance"
   ]
  },
  {
   "cell_type": "markdown",
   "metadata": {},
   "source": [
    "- A more sophisticated technique is the Mahalanobis Distance, which takes into account the variability in dimensions.\n",
    "- Better metric when real-world datasets have columns which are correlated\n",
    "- Very useful in outlier detetction\n",
    "\n",
    "The Mahalanobis distance of an observation ${\\vec {x}}=(x_{1},x_{2},x_{3},\\dots ,x_{N})^{T}$ from a set of observations with mean ${\\vec {\\mu }}=(\\mu _{1},\\mu _{2},\\mu _{3},\\dots ,\\mu _{N})^{T}$ and covariance matrix $S$ is defined as shown in 1st equation.\n",
    "\n",
    "It can also be defined as a similarity measure between two random vectors ${\\vec {x}} $ and ${\\vec {y}}$ with the covariance matrix S as shown in 2nd equation.\n",
    "\n",
    "<center>\n",
    "<img src=\"../Images/Mahalanobis.jpg\" width=50%, height = 40%/>"
   ]
  },
  {
   "cell_type": "code",
   "execution_count": 6,
   "metadata": {
    "scrolled": true
   },
   "outputs": [
    {
     "data": {
      "text/plain": [
       "1.0995372903212337"
      ]
     },
     "execution_count": 6,
     "metadata": {},
     "output_type": "execute_result"
    }
   ],
   "source": [
    "def mahalonobis_distance(x,y,df):\n",
    "    V = np.cov(df.T) # Covariance matrix of the dataset\n",
    "    VI= np.linalg.inv(V) # Inverse Covariance matrix\n",
    "    return np.sqrt(np.dot(np.dot((x-y),VI),(x-y).T))\n",
    "\n",
    "#calculate Mahalonobis distance between first two rows\n",
    "mahalonobis_distance(df.loc[0,], df.loc[1,], df)"
   ]
  },
  {
   "cell_type": "markdown",
   "metadata": {},
   "source": [
    "### 3. Manhattan Distance"
   ]
  },
  {
   "cell_type": "markdown",
   "metadata": {},
   "source": [
    "- Manhattan distance is an metric in which the distance between two points is the sum of the absolute differences of their Cartesian coordinates\n",
    "- It is also known as taxicab metric, rectilinear distance, L1 distance, L1 norm, snake distance, city block distance or Manhattan length"
   ]
  },
  {
   "cell_type": "markdown",
   "metadata": {},
   "source": [
    "<center>\n",
    "<img src=\"../Images/Manhattan.jpg\" width=50%, height = 40%/>"
   ]
  },
  {
   "cell_type": "code",
   "execution_count": 7,
   "metadata": {},
   "outputs": [
    {
     "data": {
      "text/plain": [
       "16.0"
      ]
     },
     "execution_count": 7,
     "metadata": {},
     "output_type": "execute_result"
    }
   ],
   "source": [
    "def manhattan_distance(x,y):\n",
    "  return sum(abs(a-b) for a,b in zip(x,y))\n",
    "\n",
    "manhattan_distance(df.loc[0,], df.loc[1,])"
   ]
  },
  {
   "cell_type": "markdown",
   "metadata": {},
   "source": [
    "### 4. Cosine Similarity"
   ]
  },
  {
   "cell_type": "markdown",
   "metadata": {},
   "source": [
    "- Cosine similarity metric finds the normalized dot product of two objects (cosine of the angle between the two objects)\n",
    "- It determines the orientation and not magnitude between two objects\n",
    "- Two vectors with the same orientation have a cosine similarity of 1, two vectors at 90° have a similarity of 0, and two vectors diametrically opposed have a similarity of -1, independent of their magnitude."
   ]
  },
  {
   "cell_type": "code",
   "execution_count": 8,
   "metadata": {},
   "outputs": [
    {
     "data": {
      "text/plain": [
       "1.0"
      ]
     },
     "execution_count": 8,
     "metadata": {},
     "output_type": "execute_result"
    }
   ],
   "source": [
    "def square_rooted(x):\n",
    "   return round(math.sqrt(sum([a*a for a in x])),3)\n",
    "  \n",
    "def cosine_similarity(x,y):\n",
    " numerator = sum(a*b for a,b in zip(x,y))\n",
    " denominator = square_rooted(x)*square_rooted(y)\n",
    " return round(numerator/float(denominator),3)\n",
    "  \n",
    "cosine_similarity(df.loc[0,], df.loc[1,])"
   ]
  },
  {
   "cell_type": "markdown",
   "metadata": {},
   "source": [
    "### 5. Distances for Binary Data"
   ]
  },
  {
   "cell_type": "markdown",
   "metadata": {},
   "source": [
    "<center>\n",
    "<img src=\"../Images/Binary.jpg\" width=60%, height = 60%/>\n",
    "    \n",
    "#### Binary Euclidean Distance: $\\frac{(b+c)}{(a+b+c+d)}$ \n",
    "#### Simple Matching Coefficient: $\\frac{(a+d)}{(a+b+c+d)}$ \n",
    "#### Jaccard coefficient: $\\frac{(d)}{(b+c+d)}$ \n",
    "\n"
   ]
  }
 ],
 "metadata": {
  "kernelspec": {
   "display_name": "Python 3",
   "language": "python",
   "name": "python3"
  },
  "language_info": {
   "codemirror_mode": {
    "name": "ipython",
    "version": 3
   },
   "file_extension": ".py",
   "mimetype": "text/x-python",
   "name": "python",
   "nbconvert_exporter": "python",
   "pygments_lexer": "ipython3",
   "version": "3.7.0"
  }
 },
 "nbformat": 4,
 "nbformat_minor": 2
}
